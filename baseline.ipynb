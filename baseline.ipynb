{
  "cells": [
    {
      "cell_type": "markdown",
      "metadata": {
        "id": "view-in-github",
        "colab_type": "text"
      },
      "source": [
        "<a href=\"https://colab.research.google.com/github/jacksonliang35/Polish-POS-Tagging/blob/main/baseline.ipynb\" target=\"_parent\"><img src=\"https://colab.research.google.com/assets/colab-badge.svg\" alt=\"Open In Colab\"/></a>"
      ]
    },
    {
      "cell_type": "markdown",
      "source": [
        "### This script predicts the POS tag of a word using its neighboring word (by a window)."
      ],
      "metadata": {
        "id": "gdRcDIEHKofs"
      }
    },
    {
      "cell_type": "code",
      "source": [
        "from google.colab import drive\n",
        "drive.mount('/content/drive')"
      ],
      "metadata": {
        "colab": {
          "base_uri": "https://localhost:8080/"
        },
        "id": "Otkylx7lJSIw",
        "outputId": "d5845e6c-a0f1-4882-8a6b-83b18e20fc3e"
      },
      "execution_count": null,
      "outputs": [
        {
          "output_type": "stream",
          "name": "stdout",
          "text": [
            "Drive already mounted at /content/drive; to attempt to forcibly remount, call drive.mount(\"/content/drive\", force_remount=True).\n",
            "/content/drive/MyDrive/UIUC/pos_tagging/Code\n"
          ]
        }
      ]
    },
    {
      "cell_type": "code",
      "source": [
        "%cd /content/drive/MyDrive/UIUC/pos_tagging/Code"
      ],
      "metadata": {
        "colab": {
          "base_uri": "https://localhost:8080/"
        },
        "id": "ipVjFKNXKGlJ",
        "outputId": "98c288c5-8989-4b0a-b41e-33d30e56d3e6"
      },
      "execution_count": null,
      "outputs": [
        {
          "output_type": "stream",
          "name": "stdout",
          "text": [
            "/content/drive/MyDrive/UIUC/pos_tagging/Code\n"
          ]
        }
      ]
    },
    {
      "cell_type": "code",
      "execution_count": null,
      "metadata": {
        "id": "V5KZ4KhPJLxD"
      },
      "outputs": [],
      "source": [
        "## Imports\n",
        "import xml.etree.ElementTree as ET\n",
        "import pandas as pd\n",
        "import numpy as np\n",
        "from sklearn.metrics import precision_recall_fscore_support\n",
        "from sklearn.metrics import f1_score, precision_score, recall_score\n",
        "from sklearn.preprocessing import LabelEncoder\n",
        "from sklearn.model_selection import KFold"
      ]
    },
    {
      "cell_type": "markdown",
      "metadata": {
        "id": "NvSxKIEgJLxE"
      },
      "source": [
        "Following is a function used to parse xml into list of list."
      ]
    },
    {
      "cell_type": "code",
      "execution_count": null,
      "metadata": {
        "id": "0yYdP26qJLxF"
      },
      "outputs": [],
      "source": [
        "def read_data(path, dataType='orth', labelType='pos'):\n",
        "    assert(dataType in ['orth', 'lemma'])\n",
        "    assert(labelType in ['pos', 'ctag'])\n",
        "    ## Parse xml file\n",
        "    tree = ET.parse(path)\n",
        "    root = tree.getroot()\n",
        "    ## Construct list of list\n",
        "    data = []\n",
        "    label = []\n",
        "    for chunk in root:\n",
        "        cur_data = []\n",
        "        cur_label = []\n",
        "        for tok in chunk:\n",
        "            if tok.tag != 'ns':\n",
        "                if dataType == 'orth':\n",
        "                    cur_data.append(tok.find('orth').text.lower())\n",
        "                else:\n",
        "                    cur_data.append(tok.find('lex').find('base').text.lower())\n",
        "                if labelType == 'pos':\n",
        "                    cur_label.append(tok.find('lex').find('ctag').text.split(\":\")[0])\n",
        "                else:\n",
        "                    cur_label.append(tok.find('lex').find('ctag').text)\n",
        "        data.append(cur_data)\n",
        "        label.append(cur_label)\n",
        "    return data,label"
      ]
    },
    {
      "cell_type": "markdown",
      "metadata": {
        "id": "qI8zI4ozJLxG"
      },
      "source": [
        "Following is a function that converts list of list into pandas dataframe. The dataframe consists a window of words, where we want to predict the POS tag of the center word."
      ]
    },
    {
      "cell_type": "code",
      "execution_count": null,
      "metadata": {
        "id": "XAYU01WSJLxG"
      },
      "outputs": [],
      "source": [
        "def lol2df(data, label, wind_hs=3, labelType='pos'):\n",
        "    assert(labelType in ['pos', 'ctag'])\n",
        "    assert(len(data)==len(label))\n",
        "    # Prepare list of list\n",
        "    data2df = []\n",
        "    for l in range(len(data)):\n",
        "        cur = ['_'] * wind_hs + data[l] + ['_'] * wind_hs\n",
        "        for t in range(len(data[l])):\n",
        "            temp = cur[t:t+2*wind_hs+1]\n",
        "            temp.extend(label[l][t].split(':'))\n",
        "            data2df.append(temp)\n",
        "    # Convert to df\n",
        "    if labelType == 'pos':\n",
        "        cname = ['w'+str(i) for i in range(2*wind_hs+1)]+['class']\n",
        "    else:\n",
        "        cname = ['w'+str(i) for i in range(2*wind_hs+1)]+['c1', 'c2', 'c3', 'c4']\n",
        "    return pd.DataFrame(data2df, columns=cname)"
      ]
    },
    {
      "cell_type": "markdown",
      "metadata": {
        "id": "io4N2oOQJLxH"
      },
      "source": [
        "Reading files..."
      ]
    },
    {
      "cell_type": "code",
      "execution_count": null,
      "metadata": {
        "id": "-k-CkwsIJLxI"
      },
      "outputs": [],
      "source": [
        "# Input and combine data (will use 5-fold CV)\n",
        "trdata, trlabel = read_data('../Data/train.xml')\n",
        "valdata, vallabel = read_data('../Data/validate.xml')\n",
        "testdata, testlabel = read_data('../Data/test.xml')\n",
        "data = pd.concat([lol2df(trdata, trlabel), lol2df(valdata, vallabel)], ignore_index=True)\n",
        "tdata = lol2df(testdata, testlabel)"
      ]
    },
    {
      "cell_type": "code",
      "source": [
        "data.head(n=10)"
      ],
      "metadata": {
        "colab": {
          "base_uri": "https://localhost:8080/",
          "height": 363
        },
        "id": "YKbNHByGKZqf",
        "outputId": "8a7581bc-f4e1-4c47-c02c-b95ad9e9d946"
      },
      "execution_count": null,
      "outputs": [
        {
          "output_type": "execute_result",
          "data": {
            "text/plain": [
              "       w0       w1       w2       w3       w4       w5       w6    class\n",
              "0       _        _        _   zabiję      cię        ,    jeśli      fin\n",
              "1       _        _   zabiję      cię        ,    jeśli  umrzesz  ppron12\n",
              "2       _   zabiję      cię        ,    jeśli  umrzesz        !   interp\n",
              "3  zabiję      cię        ,    jeśli  umrzesz        !        \"     comp\n",
              "4     cię        ,    jeśli  umrzesz        !        \"        _      fin\n",
              "5       ,    jeśli  umrzesz        !        \"        _        _   interp\n",
              "6   jeśli  umrzesz        !        \"        _        _        _   interp\n",
              "7       _        _        _   cieszy     fakt        ,       że      fin\n",
              "8       _        _   cieszy     fakt        ,       że    royal    subst\n",
              "9       _   cieszy     fakt        ,       że    royal    canin   interp"
            ],
            "text/html": [
              "\n",
              "  <div id=\"df-457644fb-2845-494d-91ef-e679559f22d3\">\n",
              "    <div class=\"colab-df-container\">\n",
              "      <div>\n",
              "<style scoped>\n",
              "    .dataframe tbody tr th:only-of-type {\n",
              "        vertical-align: middle;\n",
              "    }\n",
              "\n",
              "    .dataframe tbody tr th {\n",
              "        vertical-align: top;\n",
              "    }\n",
              "\n",
              "    .dataframe thead th {\n",
              "        text-align: right;\n",
              "    }\n",
              "</style>\n",
              "<table border=\"1\" class=\"dataframe\">\n",
              "  <thead>\n",
              "    <tr style=\"text-align: right;\">\n",
              "      <th></th>\n",
              "      <th>w0</th>\n",
              "      <th>w1</th>\n",
              "      <th>w2</th>\n",
              "      <th>w3</th>\n",
              "      <th>w4</th>\n",
              "      <th>w5</th>\n",
              "      <th>w6</th>\n",
              "      <th>class</th>\n",
              "    </tr>\n",
              "  </thead>\n",
              "  <tbody>\n",
              "    <tr>\n",
              "      <th>0</th>\n",
              "      <td>_</td>\n",
              "      <td>_</td>\n",
              "      <td>_</td>\n",
              "      <td>zabiję</td>\n",
              "      <td>cię</td>\n",
              "      <td>,</td>\n",
              "      <td>jeśli</td>\n",
              "      <td>fin</td>\n",
              "    </tr>\n",
              "    <tr>\n",
              "      <th>1</th>\n",
              "      <td>_</td>\n",
              "      <td>_</td>\n",
              "      <td>zabiję</td>\n",
              "      <td>cię</td>\n",
              "      <td>,</td>\n",
              "      <td>jeśli</td>\n",
              "      <td>umrzesz</td>\n",
              "      <td>ppron12</td>\n",
              "    </tr>\n",
              "    <tr>\n",
              "      <th>2</th>\n",
              "      <td>_</td>\n",
              "      <td>zabiję</td>\n",
              "      <td>cię</td>\n",
              "      <td>,</td>\n",
              "      <td>jeśli</td>\n",
              "      <td>umrzesz</td>\n",
              "      <td>!</td>\n",
              "      <td>interp</td>\n",
              "    </tr>\n",
              "    <tr>\n",
              "      <th>3</th>\n",
              "      <td>zabiję</td>\n",
              "      <td>cię</td>\n",
              "      <td>,</td>\n",
              "      <td>jeśli</td>\n",
              "      <td>umrzesz</td>\n",
              "      <td>!</td>\n",
              "      <td>\"</td>\n",
              "      <td>comp</td>\n",
              "    </tr>\n",
              "    <tr>\n",
              "      <th>4</th>\n",
              "      <td>cię</td>\n",
              "      <td>,</td>\n",
              "      <td>jeśli</td>\n",
              "      <td>umrzesz</td>\n",
              "      <td>!</td>\n",
              "      <td>\"</td>\n",
              "      <td>_</td>\n",
              "      <td>fin</td>\n",
              "    </tr>\n",
              "    <tr>\n",
              "      <th>5</th>\n",
              "      <td>,</td>\n",
              "      <td>jeśli</td>\n",
              "      <td>umrzesz</td>\n",
              "      <td>!</td>\n",
              "      <td>\"</td>\n",
              "      <td>_</td>\n",
              "      <td>_</td>\n",
              "      <td>interp</td>\n",
              "    </tr>\n",
              "    <tr>\n",
              "      <th>6</th>\n",
              "      <td>jeśli</td>\n",
              "      <td>umrzesz</td>\n",
              "      <td>!</td>\n",
              "      <td>\"</td>\n",
              "      <td>_</td>\n",
              "      <td>_</td>\n",
              "      <td>_</td>\n",
              "      <td>interp</td>\n",
              "    </tr>\n",
              "    <tr>\n",
              "      <th>7</th>\n",
              "      <td>_</td>\n",
              "      <td>_</td>\n",
              "      <td>_</td>\n",
              "      <td>cieszy</td>\n",
              "      <td>fakt</td>\n",
              "      <td>,</td>\n",
              "      <td>że</td>\n",
              "      <td>fin</td>\n",
              "    </tr>\n",
              "    <tr>\n",
              "      <th>8</th>\n",
              "      <td>_</td>\n",
              "      <td>_</td>\n",
              "      <td>cieszy</td>\n",
              "      <td>fakt</td>\n",
              "      <td>,</td>\n",
              "      <td>że</td>\n",
              "      <td>royal</td>\n",
              "      <td>subst</td>\n",
              "    </tr>\n",
              "    <tr>\n",
              "      <th>9</th>\n",
              "      <td>_</td>\n",
              "      <td>cieszy</td>\n",
              "      <td>fakt</td>\n",
              "      <td>,</td>\n",
              "      <td>że</td>\n",
              "      <td>royal</td>\n",
              "      <td>canin</td>\n",
              "      <td>interp</td>\n",
              "    </tr>\n",
              "  </tbody>\n",
              "</table>\n",
              "</div>\n",
              "      <button class=\"colab-df-convert\" onclick=\"convertToInteractive('df-457644fb-2845-494d-91ef-e679559f22d3')\"\n",
              "              title=\"Convert this dataframe to an interactive table.\"\n",
              "              style=\"display:none;\">\n",
              "        \n",
              "  <svg xmlns=\"http://www.w3.org/2000/svg\" height=\"24px\"viewBox=\"0 0 24 24\"\n",
              "       width=\"24px\">\n",
              "    <path d=\"M0 0h24v24H0V0z\" fill=\"none\"/>\n",
              "    <path d=\"M18.56 5.44l.94 2.06.94-2.06 2.06-.94-2.06-.94-.94-2.06-.94 2.06-2.06.94zm-11 1L8.5 8.5l.94-2.06 2.06-.94-2.06-.94L8.5 2.5l-.94 2.06-2.06.94zm10 10l.94 2.06.94-2.06 2.06-.94-2.06-.94-.94-2.06-.94 2.06-2.06.94z\"/><path d=\"M17.41 7.96l-1.37-1.37c-.4-.4-.92-.59-1.43-.59-.52 0-1.04.2-1.43.59L10.3 9.45l-7.72 7.72c-.78.78-.78 2.05 0 2.83L4 21.41c.39.39.9.59 1.41.59.51 0 1.02-.2 1.41-.59l7.78-7.78 2.81-2.81c.8-.78.8-2.07 0-2.86zM5.41 20L4 18.59l7.72-7.72 1.47 1.35L5.41 20z\"/>\n",
              "  </svg>\n",
              "      </button>\n",
              "      \n",
              "  <style>\n",
              "    .colab-df-container {\n",
              "      display:flex;\n",
              "      flex-wrap:wrap;\n",
              "      gap: 12px;\n",
              "    }\n",
              "\n",
              "    .colab-df-convert {\n",
              "      background-color: #E8F0FE;\n",
              "      border: none;\n",
              "      border-radius: 50%;\n",
              "      cursor: pointer;\n",
              "      display: none;\n",
              "      fill: #1967D2;\n",
              "      height: 32px;\n",
              "      padding: 0 0 0 0;\n",
              "      width: 32px;\n",
              "    }\n",
              "\n",
              "    .colab-df-convert:hover {\n",
              "      background-color: #E2EBFA;\n",
              "      box-shadow: 0px 1px 2px rgba(60, 64, 67, 0.3), 0px 1px 3px 1px rgba(60, 64, 67, 0.15);\n",
              "      fill: #174EA6;\n",
              "    }\n",
              "\n",
              "    [theme=dark] .colab-df-convert {\n",
              "      background-color: #3B4455;\n",
              "      fill: #D2E3FC;\n",
              "    }\n",
              "\n",
              "    [theme=dark] .colab-df-convert:hover {\n",
              "      background-color: #434B5C;\n",
              "      box-shadow: 0px 1px 3px 1px rgba(0, 0, 0, 0.15);\n",
              "      filter: drop-shadow(0px 1px 2px rgba(0, 0, 0, 0.3));\n",
              "      fill: #FFFFFF;\n",
              "    }\n",
              "  </style>\n",
              "\n",
              "      <script>\n",
              "        const buttonEl =\n",
              "          document.querySelector('#df-457644fb-2845-494d-91ef-e679559f22d3 button.colab-df-convert');\n",
              "        buttonEl.style.display =\n",
              "          google.colab.kernel.accessAllowed ? 'block' : 'none';\n",
              "\n",
              "        async function convertToInteractive(key) {\n",
              "          const element = document.querySelector('#df-457644fb-2845-494d-91ef-e679559f22d3');\n",
              "          const dataTable =\n",
              "            await google.colab.kernel.invokeFunction('convertToInteractive',\n",
              "                                                     [key], {});\n",
              "          if (!dataTable) return;\n",
              "\n",
              "          const docLinkHtml = 'Like what you see? Visit the ' +\n",
              "            '<a target=\"_blank\" href=https://colab.research.google.com/notebooks/data_table.ipynb>data table notebook</a>'\n",
              "            + ' to learn more about interactive tables.';\n",
              "          element.innerHTML = '';\n",
              "          dataTable['output_type'] = 'display_data';\n",
              "          await google.colab.output.renderOutput(dataTable, element);\n",
              "          const docLink = document.createElement('div');\n",
              "          docLink.innerHTML = docLinkHtml;\n",
              "          element.appendChild(docLink);\n",
              "        }\n",
              "      </script>\n",
              "    </div>\n",
              "  </div>\n",
              "  "
            ]
          },
          "metadata": {},
          "execution_count": 8
        }
      ]
    },
    {
      "cell_type": "markdown",
      "metadata": {
        "id": "v6SzohEJJLxJ"
      },
      "source": [
        "Pre-processing..."
      ]
    },
    {
      "cell_type": "code",
      "execution_count": null,
      "metadata": {
        "id": "eM88p472JLxJ"
      },
      "outputs": [],
      "source": [
        "## Transform labels into numbers\n",
        "## labels\n",
        "label_enc = LabelEncoder().fit(data['class'])\n",
        "y = label_enc.transform(data['class'])"
      ]
    },
    {
      "cell_type": "code",
      "execution_count": null,
      "metadata": {
        "id": "zdBQgyt7JLxK"
      },
      "outputs": [],
      "source": [
        "## A naive way to transform words into numbers\n",
        "## features\n",
        "X = data.drop(columns=['class']).values\n",
        "data_enc = LabelEncoder().fit(X.ravel())\n",
        "# Below using Labelencoder on features, not a good practice in general\n",
        "X = data_enc.transform(X.ravel()).reshape(X.shape)"
      ]
    },
    {
      "cell_type": "code",
      "execution_count": null,
      "metadata": {
        "scrolled": true,
        "id": "CiEWSzEcJLxK"
      },
      "outputs": [],
      "source": [
        "y_test = label_enc.transform(tdata['class'])\n",
        "X_test = tdata.drop(columns='class').values\n",
        "X_test_r = X_test.ravel()\n",
        "\n",
        "# For unseen words, replace it with a random seen word. Below using set to boost performance.\n",
        "new_test_data = set(LabelEncoder().fit(X_test.ravel()).classes_) - set(data_enc.classes_)\n",
        "for i in range(len(X_test_r)):\n",
        "    if X_test_r[i] in new_test_data:\n",
        "        X_test_r[i] = np.random.choice(data_enc.classes_)\n",
        "X_test = data_enc.transform(X_test_r).reshape(X_test.shape)"
      ]
    },
    {
      "cell_type": "markdown",
      "metadata": {
        "id": "I9Ux1ik7JLxL"
      },
      "source": [
        "Following is a wrapper to analyze classifiers with 5-fold CV."
      ]
    },
    {
      "cell_type": "code",
      "execution_count": null,
      "metadata": {
        "id": "DImkgXEKJLxL"
      },
      "outputs": [],
      "source": [
        "def testClassifiers(clf, X, y, cv=5):\n",
        "    # Use 5-fold CV\n",
        "    kf = KFold(n_splits=cv)\n",
        "    f1, prec, rec = list(), list(), list()\n",
        "    for train_index, test_index in kf.split(X):\n",
        "        X_train, X_test = X[train_index], X[test_index]\n",
        "        y_train, y_test = y[train_index], y[test_index]\n",
        "        ## Fit classifier\n",
        "        clf.fit(X_train, y_train)\n",
        "        y_pred = clf.predict(X_test)\n",
        "        ## Calculate metrics\n",
        "        f1.append(f1_score(y_test, y_pred, average=\"micro\"))\n",
        "        prec.append(precision_score(y_test, y_pred, average=\"micro\"))\n",
        "        rec.append(recall_score(y_test, y_pred, average=\"micro\"))\n",
        "    return np.mean(f1), np.mean(prec), np.mean(rec)"
      ]
    },
    {
      "cell_type": "code",
      "execution_count": null,
      "metadata": {
        "colab": {
          "base_uri": "https://localhost:8080/"
        },
        "id": "UA_VXplnJLxM",
        "outputId": "dfae92c3-2e3c-49f5-abac-5d56e635411b"
      },
      "outputs": [
        {
          "output_type": "stream",
          "name": "stdout",
          "text": [
            "Current classifier: Gaussian Naive Bayes\n",
            "Average precision: 0.38761566933991365\n",
            "Average recall: 0.38761566933991365\n",
            "Average f1 score: 0.38761566933991365\n",
            "\n",
            "Current classifier: Decision Tree\n",
            "Average precision: 0.8544324491054904\n",
            "Average recall: 0.8544324491054904\n",
            "Average f1 score: 0.8544324491054904\n",
            "\n"
          ]
        }
      ],
      "source": [
        "# Validation\n",
        "from sklearn.naive_bayes import GaussianNB\n",
        "from sklearn.tree import DecisionTreeClassifier\n",
        "names = [\"Gaussian Naive Bayes\", \"Decision Tree\"]\n",
        "classifiers = [GaussianNB(), \n",
        "               DecisionTreeClassifier()]\n",
        "for name, clf in zip(names, classifiers):\n",
        "    print(\"Current classifier:\", name)\n",
        "    f,p,r = testClassifiers(clf, X, y)\n",
        "    print(\"Average precision:\", p)\n",
        "    print(\"Average recall:\", r)\n",
        "    print(\"Average f1 score:\", f)\n",
        "    print(\"\")"
      ]
    },
    {
      "cell_type": "code",
      "execution_count": null,
      "metadata": {
        "id": "wfCOk7cHJLxM",
        "outputId": "6e983506-6081-435a-b3b8-d7efaee7ec07"
      },
      "outputs": [
        {
          "name": "stdout",
          "output_type": "stream",
          "text": [
            "Current classifier: Gaussian Naive Bayes\n",
            "Test precision: 0.3890446373804613\n",
            "Test recall: 0.3890446373804613\n",
            "Test f1 score: 0.38904463738046136\n",
            "\n",
            "Current classifier: Decision Tree\n",
            "Test precision: 0.8528197338141639\n",
            "Test recall: 0.8528197338141639\n",
            "Test f1 score: 0.8528197338141639\n",
            "\n"
          ]
        }
      ],
      "source": [
        "# Testing\n",
        "names = [\"Gaussian Naive Bayes\", \"Decision Tree\"]\n",
        "classifiers = [GaussianNB(), \n",
        "               DecisionTreeClassifier()]\n",
        "for name, clf in zip(names, classifiers):\n",
        "    print(\"Current classifier:\", name)\n",
        "    clf.fit(X, y)\n",
        "    y_pred = clf.predict(X_test)\n",
        "    ## Calculate metrics\n",
        "    print(\"Test precision:\", precision_score(y_test, y_pred, average=\"micro\"))\n",
        "    print(\"Test recall:\", recall_score(y_test, y_pred, average=\"micro\"))\n",
        "    print(\"Test f1 score:\", f1_score(y_test, y_pred, average=\"micro\"))\n",
        "    print(\"\")"
      ]
    }
  ],
  "metadata": {
    "kernelspec": {
      "display_name": "Python 3 (ipykernel)",
      "language": "python",
      "name": "python3"
    },
    "language_info": {
      "codemirror_mode": {
        "name": "ipython",
        "version": 3
      },
      "file_extension": ".py",
      "mimetype": "text/x-python",
      "name": "python",
      "nbconvert_exporter": "python",
      "pygments_lexer": "ipython3",
      "version": "3.9.6"
    },
    "colab": {
      "name": "baseline.ipynb",
      "provenance": [],
      "collapsed_sections": [],
      "include_colab_link": true
    }
  },
  "nbformat": 4,
  "nbformat_minor": 0
}